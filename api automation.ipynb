{
 "cells": [
  {
   "cell_type": "code",
   "execution_count": 19,
   "id": "1d2913c6-007e-4133-9deb-c537341c1ad5",
   "metadata": {},
   "outputs": [],
   "source": [
    "from selenium import webdriver\n",
    "from selenium.webdriver.common.by import By\n",
    "from selenium.webdriver.support.ui import WebDriverWait\n",
    "from selenium.webdriver.support import expected_conditions as EC\n",
    "from selenium.webdriver.chrome.service import Service\n",
    "from googleapiclient.discovery import build\n",
    "from google.oauth2.credentials import Credentials\n",
    "\n",
    "def update_google_sheet(service, spreadsheet_id, sheet_name, data):\n",
    "    \"\"\"Update the entire sheet with sorted data.\"\"\"\n",
    "    update_range = f\"{sheet_name}!B2:D\"  # Starting from row 2\n",
    "    body = {'values': data}\n",
    "    service.spreadsheets().values().update(\n",
    "        spreadsheetId=spreadsheet_id, \n",
    "        range=update_range, \n",
    "        valueInputOption=\"USER_ENTERED\", \n",
    "        body=body\n",
    "    ).execute()\n",
    "\n",
    "# Setup the ChromeDriver\n",
    "chrome_driver_path = 'C:\\\\Users\\\\djyan\\\\Downloads\\\\chromedriver-win32\\\\chromedriver-win32\\\\chromedriver.exe'\n",
    "service = Service(executable_path=chrome_driver_path)\n",
    "driver = webdriver.Chrome(service=service)\n",
    "\n",
    "# Setup Google Sheets API\n",
    "creds = Credentials.from_authorized_user_file('C:\\\\Users\\\\djyan\\\\Downloads\\\\client_secret_204709315294-t82p97ghvt54els62217rlgp3fj1d6jo.apps.googleusercontent.com (1).json', scopes=['https://www.googleapis.com/auth/spreadsheets'])\n",
    "service = build('sheets', 'v4', credentials=creds)\n",
    "\n",
    "# Your Google Sheets Spreadsheet ID\n",
    "spreadsheet_id = '1tdwufrfmL0Bc2lnehOEopSo9T9w717LvbsjNhT8xqrE'\n",
    "\n",
    "try:\n",
    "    driver.get(\"https://clip.opus.pro/clip/P0123005tWpp\")\n",
    "    wait = WebDriverWait(driver, 20)\n",
    "    wait.until(EC.visibility_of_all_elements_located((By.CSS_SELECTOR, \".MuiTypography-root.MuiTypography-base.css-1wc18uy\")))\n",
    "\n",
    "    titles = driver.find_elements(By.CSS_SELECTOR, \".MuiTypography-root.MuiTypography-xl2.css-1jfjns0\")\n",
    "    descriptions = driver.find_elements(By.CSS_SELECTOR, \".MuiTypography-root.MuiTypography-base.css-1wc18uy\")\n",
    "    scores = driver.find_elements(By.CSS_SELECTOR, \".MuiTypography-root.MuiTypography-xl3.css-tz3tqc\")\n",
    "\n",
    "    specific_sheet_name = \"Copy of Tim Draper\"\n",
    "\n",
    "    data = []\n",
    "    for title, description, score in zip(titles, descriptions, scores):\n",
    "        score_value = int(score.text)\n",
    "        if score_value > 80:\n",
    "            data.append([title.text, description.text, str(score_value)])\n",
    "\n",
    "    # Sort the data by score in descending order\n",
    "    data.sort(key=lambda x: int(x[2]), reverse=True)\n",
    "\n",
    "    # Update the specific sheet with sorted data\n",
    "    update_google_sheet(service, spreadsheet_id, specific_sheet_name, data)\n",
    "\n",
    "finally:\n",
    "    driver.quit()"
   ]
  },
  {
   "cell_type": "code",
   "execution_count": null,
   "id": "1f81aa3e-fe80-4e1d-864b-cb70a96acfdb",
   "metadata": {},
   "outputs": [],
   "source": []
  }
 ],
 "metadata": {
  "kernelspec": {
   "display_name": "Python 3 (ipykernel)",
   "language": "python",
   "name": "python3"
  },
  "language_info": {
   "codemirror_mode": {
    "name": "ipython",
    "version": 3
   },
   "file_extension": ".py",
   "mimetype": "text/x-python",
   "name": "python",
   "nbconvert_exporter": "python",
   "pygments_lexer": "ipython3",
   "version": "3.12.1"
  }
 },
 "nbformat": 4,
 "nbformat_minor": 5
}
